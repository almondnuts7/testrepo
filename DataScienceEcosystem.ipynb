{
 "cells": [
  {
   "cell_type": "markdown",
   "id": "2fe792d9-8425-4be2-9cfd-6b5bf35f6e40",
   "metadata": {},
   "source": [
    "# Data Science Tools and Ecosystem"
   ]
  },
  {
   "cell_type": "markdown",
   "id": "bf727d42-fb4d-4a4b-90b6-cda63dc7346c",
   "metadata": {},
   "source": [
    "このノートブックでは、データサイエンスツールとエコシステムがまとめられています。"
   ]
  },
  {
   "cell_type": "markdown",
   "id": "6a12ba5e-260b-49e6-825e-391e52b69562",
   "metadata": {},
   "source": [
    "**目的::**\n",
    "- データサイエンス言語をリストするためのマークダウンセルを作成する\n",
    "- データサイエンスライブラリをリストするためのマークダウンセルを作成する\n",
    "- データサイエンスツールの表を持つマークダウンセルを作成する\n",
    "- 算術式の例を紹介するマークダウンセルを作成する\n",
    "- 数字を掛けて加算するためのコードセルを作成する"
   ]
  },
  {
   "cell_type": "markdown",
   "id": "ffc52b19-f5b2-4e00-b408-608f848673f3",
   "metadata": {},
   "source": [
    "データサイエンティストが使用する一般的な言語のいくつかは次のとおりです:\n",
    "\n",
    "1. Python\n",
    "2. R\n",
    "3. SQL"
   ]
  },
  {
   "cell_type": "markdown",
   "id": "37a9ca60-8093-46e1-9616-2bde54301775",
   "metadata": {},
   "source": [
    "データサイエンティストが使用する一般的なライブラリには次のようなものがあります:\n",
    "\n",
    "1. NumPy\n",
    "2. Pandas\n",
    "3. Scikit-learn"
   ]
  },
  {
   "cell_type": "code",
   "execution_count": 13,
   "id": "86d98ad7-c85a-4a0a-ac62-eb5d0ffc48b9",
   "metadata": {},
   "outputs": [
    {
     "name": "stdout",
     "output_type": "stream",
     "text": [
      "Requirement already satisfied: pandas in /opt/conda/lib/python3.12/site-packages (2.2.3)\n",
      "Requirement already satisfied: numpy>=1.26.0 in /opt/conda/lib/python3.12/site-packages (from pandas) (2.2.3)\n",
      "Requirement already satisfied: python-dateutil>=2.8.2 in /opt/conda/lib/python3.12/site-packages (from pandas) (2.9.0.post0)\n",
      "Requirement already satisfied: pytz>=2020.1 in /opt/conda/lib/python3.12/site-packages (from pandas) (2024.2)\n",
      "Requirement already satisfied: tzdata>=2022.7 in /opt/conda/lib/python3.12/site-packages (from pandas) (2025.1)\n",
      "Requirement already satisfied: six>=1.5 in /opt/conda/lib/python3.12/site-packages (from python-dateutil>=2.8.2->pandas) (1.17.0)\n"
     ]
    }
   ],
   "source": [
    "!pip install pandas"
   ]
  },
  {
   "cell_type": "code",
   "execution_count": 14,
   "id": "560650ff-5a88-4e03-be6d-7abf85796a9a",
   "metadata": {},
   "outputs": [
    {
     "data": {
      "text/html": [
       "<div>\n",
       "<style scoped>\n",
       "    .dataframe tbody tr th:only-of-type {\n",
       "        vertical-align: middle;\n",
       "    }\n",
       "\n",
       "    .dataframe tbody tr th {\n",
       "        vertical-align: top;\n",
       "    }\n",
       "\n",
       "    .dataframe thead th {\n",
       "        text-align: right;\n",
       "    }\n",
       "</style>\n",
       "<table border=\"1\" class=\"dataframe\">\n",
       "  <thead>\n",
       "    <tr style=\"text-align: right;\">\n",
       "      <th></th>\n",
       "      <th>データサイエンスツール</th>\n",
       "    </tr>\n",
       "  </thead>\n",
       "  <tbody>\n",
       "    <tr>\n",
       "      <th>0</th>\n",
       "      <td>Jupyter Notebook</td>\n",
       "    </tr>\n",
       "    <tr>\n",
       "      <th>1</th>\n",
       "      <td>RStudio</td>\n",
       "    </tr>\n",
       "    <tr>\n",
       "      <th>2</th>\n",
       "      <td>Spyder</td>\n",
       "    </tr>\n",
       "  </tbody>\n",
       "</table>\n",
       "</div>"
      ],
      "text/plain": [
       "        データサイエンスツール\n",
       "0  Jupyter Notebook\n",
       "1           RStudio\n",
       "2            Spyder"
      ]
     },
     "execution_count": 14,
     "metadata": {},
     "output_type": "execute_result"
    }
   ],
   "source": [
    "import pandas as pd\n",
    "\n",
    "data = {\n",
    "    \"データサイエンスツール\":[\"Jupyter Notebook\", \"RStudio\", \"Spyder\"]\n",
    "                   }\n",
    "\n",
    "df = pd.DataFrame(data)\n",
    "\n",
    "df"
   ]
  },
  {
   "cell_type": "markdown",
   "id": "83a8ff20-c304-4c50-9fa6-5458ec833ff8",
   "metadata": {},
   "source": [
    "### 以下は、Pythonで算術式を評価するいくつかの例です。"
   ]
  },
  {
   "cell_type": "code",
   "execution_count": 16,
   "id": "2a13692a-0dd4-4509-8508-ed8e9ac7a009",
   "metadata": {},
   "outputs": [
    {
     "name": "stdout",
     "output_type": "stream",
     "text": [
      "これは整数を掛けてから加算する簡単な算術式です\n"
     ]
    },
    {
     "data": {
      "text/plain": [
       "17"
      ]
     },
     "execution_count": 16,
     "metadata": {},
     "output_type": "execute_result"
    }
   ],
   "source": [
    "print(\"これは整数を掛けてから加算する簡単な算術式です\")\n",
    "\n",
    "(3*4)+5"
   ]
  },
  {
   "cell_type": "code",
   "execution_count": 23,
   "id": "ed83f19c-cb1e-43d5-8ff4-d9490316e2f7",
   "metadata": {},
   "outputs": [
    {
     "name": "stdout",
     "output_type": "stream",
     "text": [
      "これは200分を60で割って時間に変換します\n",
      "3.3333333333333335時間\n"
     ]
    }
   ],
   "source": [
    "print(\"これは200分を60で割って時間に変換します\")\n",
    "\n",
    "minutes = 200\n",
    "hours = minutes / 60\n",
    "print(f\"{hours}時間\")"
   ]
  },
  {
   "cell_type": "markdown",
   "id": "a265d281-d729-4dcf-bae6-c62ed7189ce4",
   "metadata": {},
   "source": [
    "## 著者\n",
    "Nana Terasoba"
   ]
  },
  {
   "cell_type": "code",
   "execution_count": null,
   "id": "5e607942-b4e6-4b37-94bf-d8e03aa4c92e",
   "metadata": {},
   "outputs": [],
   "source": []
  }
 ],
 "metadata": {
  "kernelspec": {
   "display_name": "Python 3 (ipykernel)",
   "language": "python",
   "name": "python3"
  },
  "language_info": {
   "codemirror_mode": {
    "name": "ipython",
    "version": 3
   },
   "file_extension": ".py",
   "mimetype": "text/x-python",
   "name": "python",
   "nbconvert_exporter": "python",
   "pygments_lexer": "ipython3",
   "version": "3.12.8"
  }
 },
 "nbformat": 4,
 "nbformat_minor": 5
}
